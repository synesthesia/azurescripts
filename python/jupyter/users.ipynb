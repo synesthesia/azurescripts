{
 "cells": [
  {
   "cell_type": "code",
   "execution_count": 11,
   "metadata": {},
   "outputs": [],
   "source": [
    "import os\n",
    "import asyncio\n",
    "from msgraph.generated.models.o_data_errors.o_data_error import ODataError\n",
    "from msgraph import GraphServiceClient\n",
    "from msgraph.generated.users.users_request_builder import UsersRequestBuilder\n",
    "from azure.identity.aio import ClientSecretCredential\n",
    "import json\n",
    "import urllib.request\n",
    "import urllib.parse\n",
    "import pandas as pd\n",
    "import re\n"
   ]
  },
  {
   "cell_type": "code",
   "execution_count": 12,
   "metadata": {},
   "outputs": [
    {
     "name": "stdout",
     "output_type": "stream",
     "text": [
      "If your secrets were initialized properly you should see your tenant id.\n",
      "Tenant Id: c5263ca1-a2e1-42fd-81bb-effcd1666efd \n"
     ]
    }
   ],
   "source": [
    "def get_secret(secret_name):\n",
    "    import os\n",
    "    return os.environ.get(secret_name)\n",
    "\n",
    "appId = get_secret('GRAPH_CLIENT_ID')\n",
    "appSecret = get_secret('GRAPH_CLIENT_SECRET') \n",
    "tenantId = get_secret('GRAPH_CLIENT_TENANT')\n",
    "print(\"If your secrets were initialized properly you should see your tenant id.\\nTenant Id: %s \" % tenantId)"
   ]
  },
  {
   "cell_type": "code",
   "execution_count": 13,
   "metadata": {},
   "outputs": [],
   "source": [
    "client_credential = ClientSecretCredential( tenantId, appId, appSecret )\n",
    "scopes = ['https://graph.microsoft.com/.default']\n",
    "client = GraphServiceClient(credentials=client_credential, scopes=scopes) \n"
   ]
  },
  {
   "cell_type": "code",
   "execution_count": 14,
   "metadata": {},
   "outputs": [
    {
     "name": "stdout",
     "output_type": "stream",
     "text": [
      "<class 'pandas.core.frame.DataFrame'>\n",
      "RangeIndex: 403 entries, 0 to 402\n",
      "Data columns (total 3 columns):\n",
      " #   Column        Non-Null Count  Dtype \n",
      "---  ------        --------------  ----- \n",
      " 0   userId        403 non-null    object\n",
      " 1   displayName   403 non-null    object\n",
      " 2   emailAddress  394 non-null    object\n",
      "dtypes: object(3)\n",
      "memory usage: 9.6+ KB\n"
     ]
    }
   ],
   "source": [
    "from msgraph.generated.models.user_collection_response import UserCollectionResponse\n",
    "\n",
    "async def get_users():\n",
    "    query_params = UsersRequestBuilder.UsersRequestBuilderGetQueryParameters(\n",
    "        # Only request specific properties\n",
    "        select = ['displayName', 'id', 'mail'],\n",
    "        # request 50 users at a time\n",
    "        #top = 50,\n",
    "        # Sort by display name\n",
    "        orderby= ['displayName']\n",
    "    )\n",
    "\n",
    "    request_config = UsersRequestBuilder.UsersRequestBuilderGetRequestConfiguration(\n",
    "        query_parameters=query_params\n",
    "    )\n",
    "\n",
    "    userId,displayName,emailAddress = [],[],[]\n",
    "\n",
    "    # get the first page of results\n",
    "    user_response = await client.users.get(request_configuration=request_config)\n",
    "\n",
    "    for user in user_response.value:\n",
    "        userId.append(user.id)\n",
    "        displayName.append(user.display_name)\n",
    "        emailAddress.append(user.mail)\n",
    "    \n",
    "    # get subsequent pages of results\n",
    "    while user_response.odata_next_link:\n",
    "        request_info = client.users.to_get_request_information(request_configuration=request_config)\n",
    "        request_info.url = user_response.odata_next_link\n",
    "        # Hint: Passing an empty error mapper might not be the ideal solution\n",
    "        user_response = await client.request_adapter.send_async(request_info, UserCollectionResponse, {})\n",
    "        for user in user_response.value:\n",
    "            userId.append(user.id)\n",
    "            displayName.append(user.display_name)\n",
    "            emailAddress.append(user.mail)\n",
    "    \n",
    "    users_dict = {'userId':userId,'displayName':displayName,'emailAddress':emailAddress}\n",
    "    return users_dict\n",
    "\n",
    "users = await get_users()\n",
    "users_df = pd.DataFrame(data=users) \n",
    "users_df.info()\n",
    "\n",
    " "
   ]
  }
 ],
 "metadata": {
  "kernelspec": {
   "display_name": "graphjupyter",
   "language": "python",
   "name": "python3"
  },
  "language_info": {
   "codemirror_mode": {
    "name": "ipython",
    "version": 3
   },
   "file_extension": ".py",
   "mimetype": "text/x-python",
   "name": "python",
   "nbconvert_exporter": "python",
   "pygments_lexer": "ipython3",
   "version": "3.11.5"
  }
 },
 "nbformat": 4,
 "nbformat_minor": 2
}
