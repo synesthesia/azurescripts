{
 "cells": [
  {
   "cell_type": "code",
   "execution_count": 17,
   "metadata": {},
   "outputs": [],
   "source": [
    "import os\n",
    "from msgraph.generated.models.o_data_errors.o_data_error import ODataError\n",
    "from msgraph import GraphServiceClient\n",
    "from msgraph.generated.users.users_request_builder import UsersRequestBuilder\n",
    "from azure.identity.aio import ClientSecretCredential\n",
    "import json\n",
    "import urllib.request\n",
    "import urllib.parse\n",
    "import pandas as pd\n",
    "import re\n"
   ]
  },
  {
   "cell_type": "code",
   "execution_count": 38,
   "metadata": {},
   "outputs": [
    {
     "name": "stdout",
     "output_type": "stream",
     "text": [
      "If your secrets were initialized properly you should see your tenant id.\n",
      "Tenant Id: c5263ca1-a2e1-42fd-81bb-effcd1666efd \n"
     ]
    }
   ],
   "source": [
    "def get_secret(secret_name):\n",
    "    import os\n",
    "    return os.environ.get(secret_name)\n",
    "\n",
    "appId = get_secret('GRAPH_CLIENT_ID')\n",
    "appSecret = get_secret('GRAPH_CLIENT_SECRET') \n",
    "tenantId = get_secret('GRAPH_CLIENT_TENANT')\n",
    "print(\"If your secrets were initialized properly you should see your tenant id.\\nTenant Id: %s \" % tenantId)"
   ]
  },
  {
   "cell_type": "code",
   "execution_count": 39,
   "metadata": {},
   "outputs": [],
   "source": [
    "client_credential = ClientSecretCredential( tenantId, appId, appSecret )\n",
    "scopes = ['https://graph.microsoft.com/.default']\n",
    "client = GraphServiceClient(credentials=client_credential, scopes=scopes) \n"
   ]
  },
  {
   "cell_type": "code",
   "execution_count": 40,
   "metadata": {},
   "outputs": [
    {
     "name": "stdout",
     "output_type": "stream",
     "text": [
      "<class 'pandas.core.frame.DataFrame'>\n",
      "RangeIndex: 100 entries, 0 to 99\n",
      "Data columns (total 3 columns):\n",
      " #   Column        Non-Null Count  Dtype \n",
      "---  ------        --------------  ----- \n",
      " 0   userId        100 non-null    object\n",
      " 1   displayName   100 non-null    object\n",
      " 2   emailAddress  0 non-null      object\n",
      "dtypes: object(3)\n",
      "memory usage: 2.5+ KB\n"
     ]
    }
   ],
   "source": [
    "query_params = UsersRequestBuilder.UsersRequestBuilderGetQueryParameters(\n",
    "    # Only request specific properties\n",
    "    select = ['displayName', 'id', 'mail'],\n",
    "    # Get at most 25 results\n",
    "    #top = 2,\n",
    "    # Sort by display name\n",
    "    orderby= ['displayName']\n",
    ")\n",
    "\n",
    "request_config = UsersRequestBuilder.UsersRequestBuilderGetRequestConfiguration(\n",
    "    query_parameters=query_params\n",
    ")\n",
    "\n",
    "userId,displayName,emailAddress = [],[],[]\n",
    "\n",
    "user_response = await client.users.get(request_configuration=request_config)\n",
    "\n",
    "for user in user_response.value:\n",
    " userId.append(user.id)\n",
    " displayName.append(user.display_name)\n",
    " emailAddress.append(user.user_principal_name)\n",
    " \n",
    "users_dict = {'userId':userId,'displayName':displayName,'emailAddress':emailAddress}\n",
    "users_df = pd.DataFrame(data=users_dict) \n",
    "users_df.info()\n",
    " "
   ]
  }
 ],
 "metadata": {
  "kernelspec": {
   "display_name": "graphjupyter",
   "language": "python",
   "name": "python3"
  },
  "language_info": {
   "codemirror_mode": {
    "name": "ipython",
    "version": 3
   },
   "file_extension": ".py",
   "mimetype": "text/x-python",
   "name": "python",
   "nbconvert_exporter": "python",
   "pygments_lexer": "ipython3",
   "version": "3.11.5"
  }
 },
 "nbformat": 4,
 "nbformat_minor": 2
}
